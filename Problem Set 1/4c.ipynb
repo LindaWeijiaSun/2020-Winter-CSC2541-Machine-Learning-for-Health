{
 "cells": [
  {
   "cell_type": "code",
   "execution_count": 1,
   "metadata": {},
   "outputs": [],
   "source": [
    "import pandas as pd\n",
    "import nltk\n",
    "import string\n",
    "from nltk.corpus import stopwords\n",
    "from nltk.tokenize import word_tokenize\n",
    "import matplotlib.pyplot as plt\n",
    "\n",
    "from utils import *\n",
    "from sklearn import preprocessing\n",
    "#use TF-IDF to transform bag-of-word counts into numerical features\n",
    "from sklearn.feature_extraction.text import TfidfVectorizer\n",
    "from nltk.tokenize import RegexpTokenizer"
   ]
  },
  {
   "cell_type": "code",
   "execution_count": 2,
   "metadata": {},
   "outputs": [],
   "source": [
    "data_icu = pd.read_csv('adult_icu.gz', compression='gzip')\n",
    "data_notes = pd.read_csv('adult_notes.gz', compression='gzip')\n",
    "# data_icu = pd.read_csv('csc2548_ml4h/adult_icu.gz', compression='gzip')\n",
    "# data_notes = pd.read_csv('csc2548_ml4h/adult_notes.gz', compression='gzip')"
   ]
  },
  {
   "cell_type": "code",
   "execution_count": 3,
   "metadata": {},
   "outputs": [],
   "source": [
    "# Extracting feature and splitting for adult_icu.gz\n",
    "drop_cols = ['train', 'subject_id', 'hadm_id', 'icustay_id', 'mort_icu']\n",
    "binary_cols = ['first_hosp_stay', 'first_icu_stay', 'adult_icu', 'eth_asian', 'eth_black', 'eth_hispanic', 'eth_other', 'eth_white', 'admType_ELECTIVE', 'admType_EMERGENCY', 'admType_NEWBORN', 'admType_URGENT']"
   ]
  },
  {
   "cell_type": "code",
   "execution_count": 4,
   "metadata": {},
   "outputs": [],
   "source": [
    "for col in data_icu.columns:\n",
    "        if ((col not in binary_cols) and (col not in drop_cols)):\n",
    "            data_icu[col] = preprocessing.scale(data_icu[col])"
   ]
  },
  {
   "cell_type": "code",
   "execution_count": 5,
   "metadata": {},
   "outputs": [],
   "source": [
    "# data_icu\n",
    "X_train_icu = data_icu[data_icu['train'] == 1]\n",
    "X_test_icu = data_icu[data_icu['train'] == 0]\n",
    "y_train_icu = X_train_icu['mort_icu']\n",
    "y_test_icu = X_test_icu['mort_icu']\n",
    "\n",
    "X_train_icu = X_train_icu.drop(drop_cols, axis=1)\n",
    "X_test_icu = X_test_icu.drop(drop_cols, axis=1)"
   ]
  },
  {
   "cell_type": "code",
   "execution_count": 6,
   "metadata": {},
   "outputs": [],
   "source": [
    "# data_notes\n",
    "drop_cols = ['train', 'subject_id', 'hadm_id', 'icustay_id', 'mort_icu']\n",
    "# binary_cols = ['first_hosp_stay', 'first_icu_stay', 'adult_icu', 'eth_asi]\n",
    "X_train_notes = data_notes[data_notes['train'] == 1]\n",
    "X_test_notes = data_notes[data_notes['train'] == 0]\n",
    "y_train_notes = X_train_notes['mort_icu']\n",
    "y_test_notes = X_test_notes['mort_icu']\n",
    "\n",
    "X_train_notes = X_train_notes.drop(drop_cols, axis=1)\n",
    "X_test_notes = X_test_notes.drop(drop_cols, axis=1) "
   ]
  },
  {
   "cell_type": "code",
   "execution_count": 7,
   "metadata": {},
   "outputs": [],
   "source": [
    "tfidf_vectorizer = TfidfVectorizer()"
   ]
  },
  {
   "cell_type": "code",
   "execution_count": 8,
   "metadata": {},
   "outputs": [],
   "source": [
    "X_train_notes = tfidf_vectorizer.fit_transform(X_train_notes['chartext'].values.astype('U'))\n",
    "X_test_notes = tfidf_vectorizer.transform(X_test_notes['chartext'].values.astype('U'))"
   ]
  },
  {
   "cell_type": "code",
   "execution_count": 9,
   "metadata": {},
   "outputs": [],
   "source": [
    "# combine two models togethor\n",
    "from scipy.sparse import hstack\n",
    "\n",
    "X_train = hstack([X_train_icu, X_train_notes])\n",
    "X_test = hstack([X_test_icu, X_test_notes])"
   ]
  },
  {
   "cell_type": "code",
   "execution_count": 11,
   "metadata": {},
   "outputs": [
    {
     "name": "stderr",
     "output_type": "stream",
     "text": [
      "/data/anaconda/envs/ml4h/lib/python3.6/site-packages/sklearn/linear_model/_logistic.py:940: ConvergenceWarning: lbfgs failed to converge (status=1):\n",
      "STOP: TOTAL NO. of ITERATIONS REACHED LIMIT.\n",
      "\n",
      "Increase the number of iterations (max_iter) or scale the data as shown in:\n",
      "    https://scikit-learn.org/stable/modules/preprocessing.html\n",
      "Please also refer to the documentation for alternative solver options:\n",
      "    https://scikit-learn.org/stable/modules/linear_model.html#logistic-regression\n",
      "  extra_warning_msg=_LOGISTIC_SOLVER_CONVERGENCE_MSG)\n"
     ]
    },
    {
     "data": {
      "text/plain": [
       "LogisticRegression(C=1.0, class_weight=None, dual=False, fit_intercept=True,\n",
       "                   intercept_scaling=1, l1_ratio=None, max_iter=100,\n",
       "                   multi_class='auto', n_jobs=None, penalty='l2',\n",
       "                   random_state=None, solver='lbfgs', tol=0.0001, verbose=0,\n",
       "                   warm_start=False)"
      ]
     },
     "execution_count": 11,
     "metadata": {},
     "output_type": "execute_result"
    }
   ],
   "source": [
    "# logistic regression\n",
    "from sklearn.linear_model import LogisticRegression\n",
    "clf = LogisticRegression(penalty = 'l2', max_iter=100)\n",
    "clf.fit(X_train, y_train_icu)"
   ]
  },
  {
   "cell_type": "code",
   "execution_count": 12,
   "metadata": {},
   "outputs": [
    {
     "name": "stdout",
     "output_type": "stream",
     "text": [
      "Score on training set:  0.9180302159025563\n",
      "Score on testing set:  0.9111814089305268\n",
      "Accuracy score: 0.9111814089305268\n",
      "No. of iterations to converge:  [100]\n"
     ]
    }
   ],
   "source": [
    "from sklearn import metrics\n",
    "y_predict = clf.predict(X_test)\n",
    "y_predict_prob = clf.predict_proba(X_test)\n",
    "\n",
    "# comment on model performance\n",
    "print(\"Score on training set: \", clf.score(X_train,y_train_icu))\n",
    "print(\"Score on testing set: \", clf.score(X_test,y_test_icu))\n",
    "print(\"Accuracy score:\",metrics.accuracy_score(y_test_icu, y_predict))\n",
    "print(\"No. of iterations to converge: \", clf.n_iter_)"
   ]
  },
  {
   "cell_type": "code",
   "execution_count": 13,
   "metadata": {},
   "outputs": [],
   "source": [
    "from sklearn import metrics\n",
    "fpr, tpr, thresholds = metrics.roc_curve(y_test_icu, y_predict_prob[:,1], pos_label = 1)"
   ]
  },
  {
   "cell_type": "code",
   "execution_count": 14,
   "metadata": {},
   "outputs": [
    {
     "name": "stdout",
     "output_type": "stream",
     "text": [
      "The threshod is:  [2.00000000e+00 1.00000000e+00 9.22858848e-01 ... 5.83523827e-03\n",
      " 5.83334820e-03 6.39000260e-04]\n",
      "AUC score:  0.8575662964472861\n"
     ]
    },
    {
     "data": {
      "image/png": "[encoded data removed]",
      "text/plain": [
       "<Figure size 432x288 with 1 Axes>"
      ]
     },
     "metadata": {
      "needs_background": "light"
     },
     "output_type": "display_data"
    }
   ],
   "source": [
    "plot_roc(fpr, tpr,\"4c_roc_graph.png\")\n",
    "print(\"The threshod is: \", thresholds)\n",
    "print(\"AUC score: \", metrics.roc_auc_score(y_test_icu, y_predict_prob[:,1]))"
   ]
  },
  {
   "cell_type": "code",
   "execution_count": 15,
   "metadata": {},
   "outputs": [
    {
     "name": "stdout",
     "output_type": "stream",
     "text": [
      "------------------------------\n",
      "Sort the value itself: \n",
      "Top 5 risk factors: \n",
      "2.231258674499076 icp\n",
      "2.534415656282369 worsening\n",
      "2.582782969036912 glucose_mean\n",
      "3.2199268466864206 arrest\n",
      "3.655053711738844 family\n",
      "Lowest 5 risk factors: \n",
      "-2.2424700289038215 cabg\n",
      "-2.097977441549197 extubation\n",
      "-2.0235543310693096 wean\n",
      "-1.8989294032354649 sepsis\n",
      "-1.8909768890343137 trach\n",
      "------------------------------\n",
      "Sort using absolute value: \n",
      "Top 5 risk factors: \n",
      "2.2424700289038215 cabg\n",
      "2.534415656282369 worsening\n",
      "2.582782969036912 glucose_mean\n",
      "3.2199268466864206 arrest\n",
      "3.655053711738844 family\n",
      "Lowest 5 risk factors: \n",
      "0.0 admType_NEWBORN\n",
      "1.0715497620909016e-06 4sec\n",
      "1.2259930200710172e-06 negligible\n",
      "1.594405960994907e-06 varicosities\n",
      "3.007196557574272e-06 precaution\n"
     ]
    }
   ],
   "source": [
    "risk_factors(list(X_train_icu.columns) + list(tfidf_vectorizer.get_feature_names()), clf.coef_)"
   ]
  },
  {
   "cell_type": "code",
   "execution_count": null,
   "metadata": {},
   "outputs": [],
   "source": []
  }
 ],
 "metadata": {
  "kernelspec": {
   "display_name": "Python 3",
   "language": "python",
   "name": "python3"
  },
  "language_info": {
   "codemirror_mode": {
    "name": "ipython",
    "version": 3
   },
   "file_extension": ".py",
   "mimetype": "text/x-python",
   "name": "python",
   "nbconvert_exporter": "python",
   "pygments_lexer": "ipython3",
   "version": "3.6.10"
  }
 },
 "nbformat": 4,
 "nbformat_minor": 4
}
