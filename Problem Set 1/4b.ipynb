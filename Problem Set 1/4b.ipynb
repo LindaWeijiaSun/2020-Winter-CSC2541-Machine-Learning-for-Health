{
 "cells": [
  {
   "cell_type": "code",
   "execution_count": 23,
   "metadata": {},
   "outputs": [],
   "source": [
    "import pandas as pd\n",
    "import nltk\n",
    "import string\n",
    "from nltk.corpus import stopwords\n",
    "from nltk.tokenize import word_tokenize\n",
    "import matplotlib.pyplot as plt\n",
    "\n",
    "from utils import *"
   ]
  },
  {
   "cell_type": "code",
   "execution_count": 6,
   "metadata": {},
   "outputs": [],
   "source": [
    "# data = pd.read_csv('csc2548_ml4h/adult_notes.gz', compression='gzip')\n",
    "data = pd.read_csv('adult_notes.gz', compression='gzip')\n",
    "# my_filtered_csv = pd.read_csv(filename, usecols=['col1', 'col3', 'col7'])"
   ]
  },
  {
   "cell_type": "code",
   "execution_count": 7,
   "metadata": {},
   "outputs": [],
   "source": [
    "#use NLTK to tokenize and remove stopwords and punctuation\n",
    "stoplist = stopwords.words('english') + list(string.punctuation)"
   ]
  },
  {
   "cell_type": "code",
   "execution_count": 8,
   "metadata": {},
   "outputs": [],
   "source": [
    "data['chartext'] = data['chartext'].astype(str)"
   ]
  },
  {
   "cell_type": "code",
   "execution_count": 9,
   "metadata": {},
   "outputs": [],
   "source": [
    "stoplist = set(stoplist)"
   ]
  },
  {
   "cell_type": "code",
   "execution_count": 10,
   "metadata": {},
   "outputs": [],
   "source": [
    "def remove_punction_and_stopwords(text):\n",
    "    return [word for word in word_tokenize(text) if word.lower() not in stoplist and not word.isdigit()]"
   ]
  },
  {
   "cell_type": "code",
   "execution_count": 12,
   "metadata": {},
   "outputs": [
    {
     "data": {
      "text/plain": [
       "0        [**2101-10-20**, 10:23, PM, CHEST, PORTABLE, A...\n",
       "1        [Nursing, Note, see, careview, complete, detai...\n",
       "2        [**2149-11-10**, 11:10, CHEST, PORTABLE, AP, C...\n",
       "3        [Vent, settings, changed, Vt, Simv, Fio2, Peep...\n",
       "4        [Admission, CSRU, y.o, admitted, CSRU, CABG, x...\n",
       "                               ...                        \n",
       "27343    [**2156-11-28**, 3:32, PM, CHEST, PORT, LINE, ...\n",
       "27344    [**2157-2-18**, 11:20, CHEST, PORT, LINE, PLAC...\n",
       "27345    [FULL, CODE, CC, Respiratory, failure, **1-29*...\n",
       "27346    [Clinician, Nurse, Patient, co, SOB, hr, high,...\n",
       "27347    [**2147-2-9**, 7:04, CHEST, PORTABLE, AP, Clip...\n",
       "Name: chartext, Length: 27348, dtype: object"
      ]
     },
     "execution_count": 12,
     "metadata": {},
     "output_type": "execute_result"
    }
   ],
   "source": [
    "data['chartext'].apply(remove_punction_and_stopwords)"
   ]
  },
  {
   "cell_type": "code",
   "execution_count": 13,
   "metadata": {},
   "outputs": [],
   "source": [
    "#use TF-IDF to transform bag-of-word counts into numerical features\n",
    "from sklearn.feature_extraction.text import TfidfVectorizer\n",
    "vectorizer = TfidfVectorizer()"
   ]
  },
  {
   "cell_type": "code",
   "execution_count": 14,
   "metadata": {},
   "outputs": [],
   "source": [
    "drop_cols = ['train', 'subject_id', 'hadm_id', 'icustay_id', 'mort_icu']\n",
    "# binary_cols = ['first_hosp_stay', 'first_icu_stay', 'adult_icu', 'eth_asi]\n",
    "X_train = data[data['train'] == 1]\n",
    "X_test = data[data['train'] == 0]\n",
    "y_train = X_train['mort_icu']\n",
    "y_test = X_test['mort_icu']\n",
    "\n",
    "X_train = X_train.drop(drop_cols, axis=1)\n",
    "X_test = X_test.drop(drop_cols, axis=1)"
   ]
  },
  {
   "cell_type": "code",
   "execution_count": 15,
   "metadata": {},
   "outputs": [],
   "source": [
    "X_train = vectorizer.fit_transform(X_train['chartext'])\n",
    "X_test = vectorizer.transform(X_test['chartext'])"
   ]
  },
  {
   "cell_type": "code",
   "execution_count": 17,
   "metadata": {},
   "outputs": [
    {
     "data": {
      "text/plain": [
       "LogisticRegression(C=1.0, class_weight=None, dual=False, fit_intercept=True,\n",
       "                   intercept_scaling=1, l1_ratio=None, max_iter=100,\n",
       "                   multi_class='auto', n_jobs=None, penalty='l2',\n",
       "                   random_state=None, solver='lbfgs', tol=0.0001, verbose=0,\n",
       "                   warm_start=False)"
      ]
     },
     "execution_count": 17,
     "metadata": {},
     "output_type": "execute_result"
    }
   ],
   "source": [
    "from sklearn.linear_model import LogisticRegression\n",
    "clf = LogisticRegression(penalty = 'l2', max_iter=100)\n",
    "clf.fit(X_train, y_train)"
   ]
  },
  {
   "cell_type": "code",
   "execution_count": 18,
   "metadata": {},
   "outputs": [
    {
     "name": "stdout",
     "output_type": "stream",
     "text": [
      "Score on training set:  0.9110774217157196\n",
      "Score on testing set:  0.9046112665774425\n",
      "Accuracy score: 0.9046112665774425\n",
      "No. of iterations to converge:  [79]\n"
     ]
    }
   ],
   "source": [
    "from sklearn import metrics\n",
    "y_predict = clf.predict(X_test)\n",
    "y_predict_prob = clf.predict_proba(X_test)\n",
    "\n",
    "# comment on model performance\n",
    "print(\"Score on training set: \", clf.score(X_train,y_train))\n",
    "print(\"Score on testing set: \", clf.score(X_test,y_test))\n",
    "print(\"Accuracy score:\",metrics.accuracy_score(y_test, y_predict))\n",
    "print(\"No. of iterations to converge: \", clf.n_iter_)"
   ]
  },
  {
   "cell_type": "code",
   "execution_count": 19,
   "metadata": {},
   "outputs": [],
   "source": [
    "from sklearn import metrics\n",
    "fpr, tpr, thresholds = metrics.roc_curve(y_test, y_predict_prob[:,1], pos_label = 1)"
   ]
  },
  {
   "cell_type": "code",
   "execution_count": 20,
   "metadata": {},
   "outputs": [
    {
     "name": "stdout",
     "output_type": "stream",
     "text": [
      "The threshod is:  [1.85667360e+00 8.56673603e-01 7.61183685e-01 ... 7.09849851e-03\n",
      " 7.09210658e-03 1.37725262e-03]\n",
      "AUC score:  0.845795093350303\n"
     ]
    },
    {
     "data": {
      "image/png": "[encoded data removed]",
      "text/plain": [
       "<Figure size 432x288 with 1 Axes>"
      ]
     },
     "metadata": {
      "needs_background": "light"
     },
     "output_type": "display_data"
    }
   ],
   "source": [
    "plot_roc(fpr, tpr,\"4b_roc_graph.png\")\n",
    "print(\"The threshod is: \", thresholds)\n",
    "print(\"AUC score: \", metrics.roc_auc_score(y_test, y_predict_prob[:,1]))"
   ]
  },
  {
   "cell_type": "code",
   "execution_count": 21,
   "metadata": {},
   "outputs": [],
   "source": [
    "# def risk_factors(feature_names, coeff):\n",
    "#     \"\"\"\n",
    "#     Report the top 5 words associated with a high risk of mortality and the lowest 5.\n",
    "#     So: DO NOT use absolute value!\n",
    "#     \"\"\"\n",
    "#     coeff_of_feature = []\n",
    "#     for index in range(len(feature_names)):\n",
    "#         coeff_of_feature.append([coeff[0][index], feature_names[index]])\n",
    "\n",
    "#     coeff_of_feature = sorted(coeff_of_feature)\n",
    "#     print(\"Top 5 risk factors: \")\n",
    "#     for coefficient, factor in coeff_of_feature[-5:]:\n",
    "#         print(coefficient, factor)\n",
    "\n",
    "#     print(\"Lowest 5 risk factors: \")\n",
    "#     for coefficient, factor in coeff_of_feature[0:5]:\n",
    "#         print(coefficient, factor)"
   ]
  },
  {
   "cell_type": "code",
   "execution_count": 24,
   "metadata": {},
   "outputs": [
    {
     "name": "stdout",
     "output_type": "stream",
     "text": [
      "------------------------------\n",
      "Sort the value itself: \n",
      "Top 5 risk factors: \n",
      "2.66196727652265 cmo\n",
      "2.8786570599398282 dnr\n",
      "3.1947298938884385 worsening\n",
      "3.325859708735898 arrest\n",
      "4.113160415687661 family\n",
      "Lowest 5 risk factors: \n",
      "-2.8581326179529087 extubation\n",
      "-2.4754993146024935 clear\n",
      "-2.2323336884463436 pain\n",
      "-2.0231132913932117 extubated\n",
      "-1.9568480183601864 wean\n",
      "------------------------------\n",
      "Sort using absolute value: \n",
      "Top 5 risk factors: \n",
      "2.8581326179529087 extubation\n",
      "2.8786570599398282 dnr\n",
      "3.1947298938884385 worsening\n",
      "3.325859708735898 arrest\n",
      "4.113160415687661 family\n",
      "Lowest 5 risk factors: \n",
      "2.04396812743609e-06 cpme\n",
      "2.217785536195768e-06 hco\n",
      "2.8723165753689643e-06 b19\n",
      "6.238605940186612e-06 recvd\n",
      "6.295361750354964e-06 8898\n"
     ]
    }
   ],
   "source": [
    "risk_factors(vectorizer.get_feature_names(), clf.coef_)"
   ]
  },
  {
   "cell_type": "code",
   "execution_count": null,
   "metadata": {},
   "outputs": [],
   "source": []
  }
 ],
 "metadata": {
  "kernelspec": {
   "display_name": "Python 3",
   "language": "python",
   "name": "python3"
  },
  "language_info": {
   "codemirror_mode": {
    "name": "ipython",
    "version": 3
   },
   "file_extension": ".py",
   "mimetype": "text/x-python",
   "name": "python",
   "nbconvert_exporter": "python",
   "pygments_lexer": "ipython3",
   "version": "3.6.10"
  }
 },
 "nbformat": 4,
 "nbformat_minor": 4
}
